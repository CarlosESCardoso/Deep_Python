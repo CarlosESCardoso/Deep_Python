{
  "nbformat": 4,
  "nbformat_minor": 0,
  "metadata": {
    "colab": {
      "provenance": [],
      "authorship_tag": "ABX9TyPQ9pMEvGNAOs8bcJGKiVdW",
      "include_colab_link": true
    },
    "kernelspec": {
      "name": "python3",
      "display_name": "Python 3"
    },
    "language_info": {
      "name": "python"
    }
  },
  "cells": [
    {
      "cell_type": "markdown",
      "metadata": {
        "id": "view-in-github",
        "colab_type": "text"
      },
      "source": [
        "<a href=\"https://colab.research.google.com/github/CarlosESCardoso/vIAjaBrasil/blob/main/vIAjaBrasil.ipynb\" target=\"_parent\"><img src=\"https://colab.research.google.com/assets/colab-badge.svg\" alt=\"Open In Colab\"/></a>"
      ]
    },
    {
      "cell_type": "markdown",
      "source": [
        "**Instalar SDK**"
      ],
      "metadata": {
        "id": "cAdbanRq-9vk"
      }
    },
    {
      "cell_type": "code",
      "execution_count": 4,
      "metadata": {
        "id": "T6Y2JuQ-WMfF"
      },
      "outputs": [],
      "source": [
        "pip install -q -U google.generativeai"
      ]
    },
    {
      "cell_type": "markdown",
      "source": [
        "Importar Bibliotecas"
      ],
      "metadata": {
        "id": "RjexhcdXBlHh"
      }
    },
    {
      "cell_type": "code",
      "source": [
        "import google.generativeai as genai\n",
        "\n",
        "import textwrap\n",
        "from IPython.display import display\n",
        "from IPython.display import Markdown"
      ],
      "metadata": {
        "id": "Dik09ukl_UiG"
      },
      "execution_count": 20,
      "outputs": []
    },
    {
      "cell_type": "markdown",
      "source": [
        "Configurar Google API Key"
      ],
      "metadata": {
        "id": "H-N7_pO7_vUK"
      }
    },
    {
      "cell_type": "code",
      "source": [
        "# \"API_KEY\" é a chave criada no Secrets para armazenar a API Key\n",
        "\n",
        "from google.colab import userdata\n",
        "secret_key = userdata.get('API_KEY')\n",
        "genai.configure(api_key=secret_key)"
      ],
      "metadata": {
        "id": "nZ_b4UcaBwti"
      },
      "execution_count": 6,
      "outputs": []
    },
    {
      "cell_type": "markdown",
      "source": [
        "Configurar modelo"
      ],
      "metadata": {
        "id": "67Tcrae_Cqj9"
      }
    },
    {
      "cell_type": "code",
      "source": [
        "generation_config = {\n",
        "  \"candidate_count\": 1,\n",
        "  \"temperature\": 0.7,\n",
        "}\n",
        "\n",
        "safety_settings={\n",
        "    'HATE': 'BLOCK_NONE',\n",
        "    'HARASSMENT': 'BLOCK_NONE',\n",
        "    'SEXUAL' : 'BLOCK_NONE',\n",
        "    'DANGEROUS' : 'BLOCK_NONE'\n",
        "    }"
      ],
      "metadata": {
        "id": "UuaFKQCdCy8O"
      },
      "execution_count": 7,
      "outputs": []
    },
    {
      "cell_type": "markdown",
      "source": [
        "Inicializar o modelo"
      ],
      "metadata": {
        "id": "VdMhCCfuDgVl"
      }
    },
    {
      "cell_type": "code",
      "source": [
        "model = genai.GenerativeModel(model_name='gemini-1.5-pro-latest',\n",
        "                                  generation_config=generation_config,\n",
        "                                  safety_settings=safety_settings,)"
      ],
      "metadata": {
        "id": "m5SnxaMYDij8"
      },
      "execution_count": 8,
      "outputs": []
    },
    {
      "cell_type": "markdown",
      "source": [
        "Definir as instruções do sistema"
      ],
      "metadata": {
        "id": "X6OezLgOD1_q"
      }
    },
    {
      "cell_type": "code",
      "source": [
        "# Definir a persona para o sistema responder corretamente.\n",
        "persona = \"\"\"\n",
        "Você é um guia turístico especializado em roteiros de lugares turísticos por todo Brasil.\n",
        "\n",
        "Sua tarefa é localizar cidades, pontos turísticos e hospedagens, considerando a cidade solicitada e o valor médio de diária de hospedagem sugeridas pelo cliente.\n",
        "\n",
        "Por exemplo:\n",
        "\n",
        "=============================================================================================\n",
        "=============================================================================================\n",
        "Cidade: PORTO SEGURO-BA\n",
        "\n",
        "HOSPEDAGEM:\n",
        "\n",
        "Hospedagem 1: Porto Seguro Eco Resort\n",
        "Descrição: Localizado em Porto Seguro, esse resort oferece diversas opções de lazer, como piscina, parque aquático, quadras esportivas e spa.\n",
        "Valor da diária: a partir de R$ 800,00\n",
        "\n",
        "\n",
        "PONTOS TURÍSTICOS:\n",
        "\n",
        "Ponto turístico 1: Passarela do Descobrimento\n",
        "Descrição: Um calçadão à beira-mar com diversos monumentos, lojas e restaurantes.\n",
        "\n",
        "=============================================================================================\n",
        "=============================================================================================\n",
        "\n",
        "\"\"\"\n",
        "\n",
        "# Instrução para apresentar os locais turísticos\n",
        "\n",
        "instrucao_local_turistico = \"\"\"\n",
        "Você é um guia turístico especializado em roteiros de lugares turísticos por todo Brasil.\n",
        "\n",
        "Seguir as seguintes regras:\n",
        "\n",
        "Considerando a cidade e o valor médio em reais da diária de hospedagem informados pelo turista, sugira 3 hospedagens 3 pontos turísticos.\n",
        "Formato da resposta:\n",
        "\n",
        "Cidade: [Cidade]-[UF]\n",
        "\n",
        "HOSPEDAGEM:\n",
        "\n",
        "Hospedagem 1: [Nome da hospedagem]\n",
        "Descrição: [Descriçõ sobre a hospedagem]\n",
        "Valor da diária: [Valor média da diária na moeda real]\n",
        "\n",
        "Hospedagem 2: [Nome da hospedagem]\n",
        "Descrição: [Descriçõ sobre a hospedagem]\n",
        "Valor da diária: [Valor média da diária na moeda real]\n",
        "\n",
        "\n",
        "PONTOS TURÍSTICOS:\n",
        "\n",
        "Ponto turístico 1: [Nome do ponto turístico]\n",
        "Descrição: [Descrição sobre o ponto turístico]\n",
        "\n",
        "Ponto turístico 2: [Nome do ponto turístico]\n",
        "Descrição: [Descrição sobre o ponto turístico]\n",
        "\n",
        "Exemplo:\n",
        "\n",
        "Cidade: Porto Seguro\n",
        "Diária: 600\n",
        "\n",
        "Resposta:\n",
        "=============================================================================================\n",
        "=============================================================================================\n",
        "Cidade: PORTO SEGURO-BA\n",
        "\n",
        "HOSPEDAGEM:\n",
        "\n",
        "Hospedagem 1: Porto Seguro Eco Resort\n",
        "Descrição: Localizado em Porto Seguro, esse resort oferece diversas opções de lazer, como piscina, parque aquático, quadras esportivas e spa.\n",
        "Valor da diária: a partir de R$ 800,00\n",
        "\n",
        "Hospedagem 2: Club Med Trancoso\n",
        "Descrição: Localizado em Trancoso, esse resort all inclusive oferece uma experiência completa de lazer, com diversas atividades para adultos e crianças\n",
        "Valor da diária: a partir de R$ 1.200,00\n",
        "\n",
        "Hospedagem 3: Pousada Vila do Sol\n",
        "Descrição: Situada em Trancoso, essa pousada oferece chalés individuais com varanda, cozinha completa e churrasqueira.\n",
        "Valor da diária: a partir de R$ 500,00.\n",
        "\n",
        "\n",
        "PONTOS TURÍSTICOS:\n",
        "\n",
        "Ponto turístico 1: Passarela do Descobrimento\n",
        "Descrição: Um calçadão à beira-mar com diversos monumentos, lojas e restaurantes.\n",
        "\n",
        "Ponto turístico 2: Centro Histórico de Porto Seguro\n",
        "Descrição: Localizado na Cidade Alta, o Centro Histórico reúne diversos pontos históricos, como a Igreja de São Francisco do Guaraparí e o Marco do Descobrimento.\n",
        "\n",
        "Ponto turístico 3: Praia do Mutá\n",
        "Descrição: Uma praia paradisíaca com águas calmas e transparentes, ideal para relaxar e tomar sol.\n",
        "=============================================================================================\n",
        "=============================================================================================\n",
        "\"\"\"\n"
      ],
      "metadata": {
        "id": "-px0OZv4D68g"
      },
      "execution_count": 10,
      "outputs": []
    },
    {
      "cell_type": "markdown",
      "source": [
        "**vIAjaBrasil chat**"
      ],
      "metadata": {
        "id": "u_l_JiRSUe75"
      }
    },
    {
      "cell_type": "code",
      "source": [
        "from time import strftime\n",
        "chat = model.start_chat(history=[])\n",
        "\n",
        "display(Markdown(\"## 💡Descubra o Brasil dos seus sonhos com o vIAjaBrasil: Seu guia virtual personalizado! 💡\"))\n",
        "display(Markdown(\"\"))\n",
        "display(Markdown(\"Cansado de roteiros genéricos e impessoais?\"))\n",
        "display(Markdown(\"\"))\n",
        "display(Markdown(\"O vIAjaBrasil é a solução para você! Um assistente virtual inteligente que indica lugares super legais pelo Brasil para você fazer a viagem perfeita. 🤩\"))\n",
        "display(Markdown(\"\"))\n",
        "\n",
        "# Loop para repetição\n",
        "while True:\n",
        "  # Input 1: Cidade que deseja pesquisar\n",
        "  prompt_cidade = input('Informa a cidade que deseja viajar: ')\n",
        "\n",
        "  # Input 2: Valor médio da diária de hospedagem\n",
        "  prompt_valor_diaria = str(input('Informe o valor da diária de hospedagem que deseja pagar: '))\n",
        "\n",
        "  prompt_request = f\"Cidade: \" + prompt_cidade + \"\\nDiária:\" + prompt_valor_diaria\n",
        "\n",
        "  response = chat.send_message(persona + instrucao_local_turistico + prompt_request)\n",
        "\n",
        "  print(response.text, '\\n\\n')\n",
        "\n",
        "  nova_pesquisa = input(\"Deseja pesquisar uma nova cidade? (S/N)\").upper()\n",
        "\n",
        "  if nova_pesquisa == 'N':\n",
        "    break"
      ],
      "metadata": {
        "colab": {
          "base_uri": "https://localhost:8080/",
          "height": 775
        },
        "id": "caMEwJPfUiGI",
        "outputId": "58eee302-c99f-4880-c05a-b9e3363a8f1d"
      },
      "execution_count": 25,
      "outputs": [
        {
          "output_type": "display_data",
          "data": {
            "text/plain": [
              "<IPython.core.display.Markdown object>"
            ],
            "text/markdown": "## 💡Descubra o Brasil dos seus sonhos com o vIAjaBrasil: Seu guia virtual personalizado! 💡"
          },
          "metadata": {}
        },
        {
          "output_type": "display_data",
          "data": {
            "text/plain": [
              "<IPython.core.display.Markdown object>"
            ],
            "text/markdown": ""
          },
          "metadata": {}
        },
        {
          "output_type": "display_data",
          "data": {
            "text/plain": [
              "<IPython.core.display.Markdown object>"
            ],
            "text/markdown": "Cansado de roteiros genéricos e impessoais?"
          },
          "metadata": {}
        },
        {
          "output_type": "display_data",
          "data": {
            "text/plain": [
              "<IPython.core.display.Markdown object>"
            ],
            "text/markdown": ""
          },
          "metadata": {}
        },
        {
          "output_type": "display_data",
          "data": {
            "text/plain": [
              "<IPython.core.display.Markdown object>"
            ],
            "text/markdown": "O vIAjaBrasil é a solução para você! Um assistente virtual inteligente que indica lugares super legais pelo Brasil para você fazer a viagem perfeita. 🤩"
          },
          "metadata": {}
        },
        {
          "output_type": "display_data",
          "data": {
            "text/plain": [
              "<IPython.core.display.Markdown object>"
            ],
            "text/markdown": ""
          },
          "metadata": {}
        },
        {
          "name": "stdout",
          "output_type": "stream",
          "text": [
            "Informa a cidade que deseja viajar: Porto Seguro\n",
            "Informe o valor da diária de hospedagem que deseja pagar: 500\n",
            "=============================================================================================\n",
            "=============================================================================================\n",
            "Cidade: PORTO SEGURO-BA\n",
            "\n",
            "HOSPEDAGEM:\n",
            "\n",
            "Hospedagem 1: Pousada Canto Verde\n",
            "Descrição: Localizada a 500 metros da Praia de Taperapuã, a pousada oferece piscina ao ar livre, bar e jardim.\n",
            "Valor da diária: a partir de R$ 400,00\n",
            "\n",
            "Hospedagem 2: Pousada Axé\n",
            "Descrição: Situada a 200 metros da Praia de Mundai, a pousada dispõe de acomodações com ar-condicionado, varanda e frigobar.\n",
            "Valor da diária: a partir de R$ 450,00\n",
            "\n",
            "Hospedagem 3: Pousada Recanto do Sossego\n",
            "Descrição: Localizada a 800 metros da Praia de Taperapuã, essa pousada oferece acomodações com ar-condicionado, TV e banheiro privativo.\n",
            "Valor da diária: a partir de R$ 500,00.\n",
            "\n",
            "\n",
            "PONTOS TURÍSTICOS:\n",
            "\n",
            "Ponto turístico 1: Passarela do Descobrimento\n",
            "Descrição: Um calçadão à beira-mar com diversos monumentos, lojas e restaurantes.\n",
            "\n",
            "Ponto turístico 2: Centro Histórico de Porto Seguro\n",
            "Descrição: Localizado na Cidade Alta, o Centro Histórico reúne diversos pontos históricos, como a Igreja de São Francisco do Guaraparí e o Marco do Descobrimento.\n",
            "\n",
            "Ponto turístico 3: Praia de Taperapuã\n",
            "Descrição: Uma praia animada com barracas de praia que oferecem música ao vivo, bebidas e petiscos.\n",
            "=============================================================================================\n",
            "============================================================================================= \n",
            " \n",
            "\n",
            "\n",
            "Deseja pesquisar uma nova cidade? (S/N)n\n"
          ]
        }
      ]
    },
    {
      "cell_type": "code",
      "source": [],
      "metadata": {
        "id": "Y05Ei_hXVFol"
      },
      "execution_count": null,
      "outputs": []
    }
  ]
}